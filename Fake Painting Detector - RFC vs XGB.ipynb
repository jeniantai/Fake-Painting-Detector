{
 "cells": [
  {
   "cell_type": "markdown",
   "metadata": {},
   "source": [
    "# Fake Painting Detection Algorithm - RFC model vs. XGB model"
   ]
  },
  {
   "cell_type": "markdown",
   "metadata": {},
   "source": [
    "## 1. Random Forest Classifer (\"RFC\")"
   ]
  },
  {
   "cell_type": "markdown",
   "metadata": {},
   "source": [
    "### import packages and train data"
   ]
  },
  {
   "cell_type": "code",
   "execution_count": 1,
   "metadata": {},
   "outputs": [
    {
     "data": {
      "text/html": [
       "<div>\n",
       "<style scoped>\n",
       "    .dataframe tbody tr th:only-of-type {\n",
       "        vertical-align: middle;\n",
       "    }\n",
       "\n",
       "    .dataframe tbody tr th {\n",
       "        vertical-align: top;\n",
       "    }\n",
       "\n",
       "    .dataframe thead th {\n",
       "        text-align: right;\n",
       "    }\n",
       "</style>\n",
       "<table border=\"1\" class=\"dataframe\">\n",
       "  <thead>\n",
       "    <tr style=\"text-align: right;\">\n",
       "      <th></th>\n",
       "      <th>RT13Id</th>\n",
       "      <th>IsBadBuy</th>\n",
       "      <th>PurchDate</th>\n",
       "      <th>Auction</th>\n",
       "      <th>PaintingYear</th>\n",
       "      <th>PaintingAge</th>\n",
       "      <th>Artist</th>\n",
       "      <th>PaintingName</th>\n",
       "      <th>Trim</th>\n",
       "      <th>SubType</th>\n",
       "      <th>...</th>\n",
       "      <th>MMRCurrentRetailAveragePrice</th>\n",
       "      <th>MMRCurrentRetailCleanPrice</th>\n",
       "      <th>PRIMEUNIT</th>\n",
       "      <th>AUCGUART</th>\n",
       "      <th>BYRNO</th>\n",
       "      <th>VNZIP1</th>\n",
       "      <th>VNST</th>\n",
       "      <th>PaintingBCost</th>\n",
       "      <th>IsOnlineSale</th>\n",
       "      <th>WarrantyCost</th>\n",
       "    </tr>\n",
       "  </thead>\n",
       "  <tbody>\n",
       "    <tr>\n",
       "      <th>0</th>\n",
       "      <td>21003</td>\n",
       "      <td>0</td>\n",
       "      <td>2010-04-21</td>\n",
       "      <td>Christie's</td>\n",
       "      <td>2007</td>\n",
       "      <td>3</td>\n",
       "      <td>Cai Jin</td>\n",
       "      <td>TUCSON T2 T7</td>\n",
       "      <td>GLS</td>\n",
       "      <td>4D other</td>\n",
       "      <td>...</td>\n",
       "      <td>13641.0</td>\n",
       "      <td>14951.0</td>\n",
       "      <td>NaN</td>\n",
       "      <td>NaN</td>\n",
       "      <td>8655</td>\n",
       "      <td>75236</td>\n",
       "      <td>TX</td>\n",
       "      <td>8160.0</td>\n",
       "      <td>0</td>\n",
       "      <td>920</td>\n",
       "    </tr>\n",
       "    <tr>\n",
       "      <th>1</th>\n",
       "      <td>57560</td>\n",
       "      <td>0</td>\n",
       "      <td>2009-04-01</td>\n",
       "      <td>Sotheby's</td>\n",
       "      <td>2004</td>\n",
       "      <td>5</td>\n",
       "      <td>Grandma Moses</td>\n",
       "      <td>Moses T6 3.9L T6 E</td>\n",
       "      <td>Bas</td>\n",
       "      <td>2D Landscape</td>\n",
       "      <td>...</td>\n",
       "      <td>6122.0</td>\n",
       "      <td>7474.0</td>\n",
       "      <td>NaN</td>\n",
       "      <td>NaN</td>\n",
       "      <td>22808</td>\n",
       "      <td>71119</td>\n",
       "      <td>LA</td>\n",
       "      <td>6870.0</td>\n",
       "      <td>0</td>\n",
       "      <td>853</td>\n",
       "    </tr>\n",
       "    <tr>\n",
       "      <th>2</th>\n",
       "      <td>29868</td>\n",
       "      <td>0</td>\n",
       "      <td>2010-03-31</td>\n",
       "      <td>Christie's</td>\n",
       "      <td>2008</td>\n",
       "      <td>2</td>\n",
       "      <td>Frida Kahlo</td>\n",
       "      <td>AURA T6</td>\n",
       "      <td>XE</td>\n",
       "      <td>4D Genre XE</td>\n",
       "      <td>...</td>\n",
       "      <td>13509.0</td>\n",
       "      <td>15918.0</td>\n",
       "      <td>NaN</td>\n",
       "      <td>NaN</td>\n",
       "      <td>20928</td>\n",
       "      <td>32824</td>\n",
       "      <td>FL</td>\n",
       "      <td>8680.0</td>\n",
       "      <td>0</td>\n",
       "      <td>1373</td>\n",
       "    </tr>\n",
       "    <tr>\n",
       "      <th>3</th>\n",
       "      <td>64473</td>\n",
       "      <td>1</td>\n",
       "      <td>2010-06-16</td>\n",
       "      <td>Sotheby's</td>\n",
       "      <td>2003</td>\n",
       "      <td>7</td>\n",
       "      <td>Leonardo Da Vinci</td>\n",
       "      <td>MALIBU T6</td>\n",
       "      <td>Bas</td>\n",
       "      <td>4D Genre</td>\n",
       "      <td>...</td>\n",
       "      <td>5243.0</td>\n",
       "      <td>6541.0</td>\n",
       "      <td>NaN</td>\n",
       "      <td>NaN</td>\n",
       "      <td>21053</td>\n",
       "      <td>85226</td>\n",
       "      <td>AZ</td>\n",
       "      <td>4830.0</td>\n",
       "      <td>0</td>\n",
       "      <td>2508</td>\n",
       "    </tr>\n",
       "    <tr>\n",
       "      <th>4</th>\n",
       "      <td>68666</td>\n",
       "      <td>0</td>\n",
       "      <td>2010-11-04</td>\n",
       "      <td>Sotheby's</td>\n",
       "      <td>2007</td>\n",
       "      <td>3</td>\n",
       "      <td>Leonardo Da Vinci</td>\n",
       "      <td>COBALT</td>\n",
       "      <td>LS</td>\n",
       "      <td>4D Genre LS</td>\n",
       "      <td>...</td>\n",
       "      <td>8228.0</td>\n",
       "      <td>9300.0</td>\n",
       "      <td>NaN</td>\n",
       "      <td>NaN</td>\n",
       "      <td>22916</td>\n",
       "      <td>80817</td>\n",
       "      <td>CO</td>\n",
       "      <td>4965.0</td>\n",
       "      <td>0</td>\n",
       "      <td>671</td>\n",
       "    </tr>\n",
       "  </tbody>\n",
       "</table>\n",
       "<p>5 rows × 34 columns</p>\n",
       "</div>"
      ],
      "text/plain": [
       "   RT13Id  IsBadBuy  PurchDate     Auction  PaintingYear  PaintingAge  \\\n",
       "0   21003         0 2010-04-21  Christie's          2007            3   \n",
       "1   57560         0 2009-04-01   Sotheby's          2004            5   \n",
       "2   29868         0 2010-03-31  Christie's          2008            2   \n",
       "3   64473         1 2010-06-16   Sotheby's          2003            7   \n",
       "4   68666         0 2010-11-04   Sotheby's          2007            3   \n",
       "\n",
       "              Artist        PaintingName Trim       SubType      ...       \\\n",
       "0            Cai Jin        TUCSON T2 T7  GLS      4D other      ...        \n",
       "1      Grandma Moses  Moses T6 3.9L T6 E  Bas  2D Landscape      ...        \n",
       "2        Frida Kahlo             AURA T6   XE   4D Genre XE      ...        \n",
       "3  Leonardo Da Vinci           MALIBU T6  Bas      4D Genre      ...        \n",
       "4  Leonardo Da Vinci              COBALT   LS   4D Genre LS      ...        \n",
       "\n",
       "  MMRCurrentRetailAveragePrice MMRCurrentRetailCleanPrice  PRIMEUNIT AUCGUART  \\\n",
       "0                      13641.0                    14951.0        NaN      NaN   \n",
       "1                       6122.0                     7474.0        NaN      NaN   \n",
       "2                      13509.0                    15918.0        NaN      NaN   \n",
       "3                       5243.0                     6541.0        NaN      NaN   \n",
       "4                       8228.0                     9300.0        NaN      NaN   \n",
       "\n",
       "   BYRNO VNZIP1 VNST PaintingBCost  IsOnlineSale  WarrantyCost  \n",
       "0   8655  75236   TX        8160.0             0           920  \n",
       "1  22808  71119   LA        6870.0             0           853  \n",
       "2  20928  32824   FL        8680.0             0          1373  \n",
       "3  21053  85226   AZ        4830.0             0          2508  \n",
       "4  22916  80817   CO        4965.0             0           671  \n",
       "\n",
       "[5 rows x 34 columns]"
      ]
     },
     "execution_count": 1,
     "metadata": {},
     "output_type": "execute_result"
    }
   ],
   "source": [
    "import pandas as pd\n",
    "from sklearn.model_selection import train_test_split\n",
    "from matplotlib import pyplot as plt\n",
    "import seaborn as sns\n",
    "data = pd.read_csv('train_dataset.csv', parse_dates=['PurchDate'])\n",
    "data.head()"
   ]
  },
  {
   "cell_type": "markdown",
   "metadata": {},
   "source": [
    "### split into train and test, datasplit into 80/20, set seed"
   ]
  },
  {
   "cell_type": "code",
   "execution_count": 2,
   "metadata": {},
   "outputs": [],
   "source": [
    "y = data.IsBadBuy\n",
    "x_train, x_test, y_train, y_test = train_test_split(data, y, test_size=0.2, random_state = 1)"
   ]
  },
  {
   "cell_type": "markdown",
   "metadata": {},
   "source": [
    "### the relationship is linear for current retail average price and current retail clean price"
   ]
  },
  {
   "cell_type": "code",
   "execution_count": 3,
   "metadata": {},
   "outputs": [
    {
     "data": {
      "image/png": "[encoded data removed]",
      "text/plain": [
       "<matplotlib.figure.Figure at 0x2c3439dc588>"
      ]
     },
     "metadata": {},
     "output_type": "display_data"
    }
   ],
   "source": [
    "_ = plt.plot(x_train.MMRCurrentRetailAveragePrice, x_train.MMRCurrentRetailCleanPrice, marker='.',\n",
    "             linestyle='none', color='royalblue', alpha=0.4)\n",
    "_ = plt.title('Correlation Between Current Retail Average & Clean Prices')\n",
    "_ = plt.xlabel('Current Retail Average Price')\n",
    "_ = plt.ylabel('Current Retail Clean Price')\n",
    "plt.show()"
   ]
  },
  {
   "cell_type": "markdown",
   "metadata": {},
   "source": [
    "### distribution are skewed for the painting age, bids, warranty costs, acquisitions costs"
   ]
  },
  {
   "cell_type": "code",
   "execution_count": 4,
   "metadata": {},
   "outputs": [
    {
     "data": {
      "image/png": "[encoded data removed]",
      "text/plain": [
       "<matplotlib.figure.Figure at 0x2c343dc1eb8>"
      ]
     },
     "metadata": {},
     "output_type": "display_data"
    },
    {
     "data": {
      "image/png": "[encoded data removed]",
      "text/plain": [
       "<matplotlib.figure.Figure at 0x2c344881ef0>"
      ]
     },
     "metadata": {},
     "output_type": "display_data"
    },
    {
     "data": {
      "image/png": "[encoded data removed]",
      "text/plain": [
       "<matplotlib.figure.Figure at 0x2c34569aba8>"
      ]
     },
     "metadata": {},
     "output_type": "display_data"
    },
    {
     "data": {
      "image/png": "[encoded data removed]",
      "text/plain": [
       "<matplotlib.figure.Figure at 0x2c3456fb860>"
      ]
     },
     "metadata": {},
     "output_type": "display_data"
    }
   ],
   "source": [
    "sns.distplot(x_train.PaintingYear, hist=False, rug=False)\n",
    "plt.show()\n",
    "sns.distplot(x_train.Bids, hist=False, rug=False)\n",
    "plt.show()\n",
    "sns.distplot(x_train.WarrantyCost, hist=False, rug=False)\n",
    "plt.show()\n",
    "sns.distplot(x_train.PaintingBCost, hist=False, rug=False)\n",
    "plt.show()"
   ]
  },
  {
   "cell_type": "markdown",
   "metadata": {},
   "source": [
    "### drop the ID variable"
   ]
  },
  {
   "cell_type": "code",
   "execution_count": 5,
   "metadata": {},
   "outputs": [],
   "source": [
    "del x_train[\"RT13Id\"]"
   ]
  },
  {
   "cell_type": "markdown",
   "metadata": {},
   "source": [
    "### use NLP to extract T1-T13 from painting name and subtype, create dummies for each"
   ]
  },
  {
   "cell_type": "code",
   "execution_count": 6,
   "metadata": {},
   "outputs": [],
   "source": [
    "t1 = x_train[\"PaintingName\"].str.findall(\"([T]\\d+)\")\n",
    "t2 = x_train[\"SubType\"].str.findall(\"([T]\\d+)\")\n",
    "t = t1+t2\n",
    "dum_t = t.str.join(sep=',').str.get_dummies(sep=',')"
   ]
  },
  {
   "cell_type": "markdown",
   "metadata": {},
   "source": [
    "### use NLP extract I4,I-4,I 4,I6,I-6,I 6 from painting name, create dummies for each"
   ]
  },
  {
   "cell_type": "code",
   "execution_count": 7,
   "metadata": {},
   "outputs": [],
   "source": [
    "qc = x_train[\"PaintingName\"].str.findall(\"(I[4,6]+|I-[4,6]+|I\\s[4,6]+)\")\n",
    "dum_qc = qc.str.join(sep='').str.get_dummies()"
   ]
  },
  {
   "cell_type": "markdown",
   "metadata": {},
   "source": [
    "###  use NLP extract genre,history,still life,real life,landscape,portrait and fine art from subtype, create dummies"
   ]
  },
  {
   "cell_type": "code",
   "execution_count": 8,
   "metadata": {},
   "outputs": [],
   "source": [
    "x_train[\"SubType\"] = x_train.loc[:,\"SubType\"].str.lower()\n",
    "stylelist = [\"genre\", \"history\", \"still life\", \"real life\", \"landscape\", \"portrait\", \"fine art\"]\n",
    "style = x_train.loc[:,\"SubType\"].str.extract('(' + '|'.join(stylelist) + ')', expand=False)\n",
    "dum_style = style.str.join(sep='').str.get_dummies()"
   ]
  },
  {
   "cell_type": "markdown",
   "metadata": {},
   "source": [
    "### split purchase date into year, month and day of week, create dummies for more variables"
   ]
  },
  {
   "cell_type": "code",
   "execution_count": 9,
   "metadata": {},
   "outputs": [],
   "source": [
    "x_train_dum = pd.get_dummies(x_train, prefix='auct_', columns=[\"Auction\"])\n",
    "x_train_dum = pd.get_dummies(x_train_dum, prefix='mkt_', columns=[\"Market\"])\n",
    "x_train_dum = pd.get_dummies(x_train_dum, prefix='mat_', columns=[\"FrameType\"])\n",
    "x_train_dum = pd.get_dummies(x_train_dum, prefix='nat_', columns=[\"Nationality\"])\n",
    "x_train_dum = pd.get_dummies(x_train_dum, prefix='s_', columns=[\"Size\"])\n",
    "x_train_dum = pd.get_dummies(x_train_dum, prefix='t3_', columns=[\"TopThreeNYCName\"])\n",
    "x_train_dum = pd.get_dummies(x_train_dum, prefix='dm_', columns=[\"PRIMEUNIT\"])\n",
    "x_train_dum = pd.get_dummies(x_train_dum, prefix='grt_', columns=[\"AUCGUART\"])\n",
    "x_train_dum = pd.get_dummies(x_train_dum, prefix='pty_', columns=[\"PaintingYear\"])\n",
    "x_train_dum = pd.get_dummies(x_train_dum, prefix='pta_', columns=[\"PaintingAge\"])\n",
    "x_train_dum = pd.get_dummies(x_train_dum, prefix='a_', columns=[\"Artist\"])\n",
    "x_train_dum = pd.get_dummies(x_train_dum, prefix='c_', columns=[\"CanvasColor\"])\n",
    "x_train_dum = pd.get_dummies(x_train_dum, prefix='tm_', columns=[\"Trim\"])\n",
    "x_train_dum = pd.get_dummies(x_train_dum, prefix='b_', columns=[\"BYRNO\"])\n",
    "x_train_dum = pd.get_dummies(x_train_dum, prefix='st_', columns=[\"VNST\"])\n",
    "\n",
    "x_train_dum['puryr'] = x_train_dum['PurchDate'].map(lambda x: x.year)\n",
    "x_train_dum['purmo'] = x_train_dum['PurchDate'].map(lambda x: x.month)\n",
    "x_train_dum['purdow'] = x_train_dum['PurchDate'].dt.weekday\n",
    "\n",
    "x_train_dum = pd.get_dummies(x_train_dum, prefix='py_', columns=[\"puryr\"])\n",
    "x_train_dum = pd.get_dummies(x_train_dum, prefix='pm_', columns=[\"purmo\"])\n",
    "x_train_dum = pd.get_dummies(x_train_dum, prefix='pd_', columns=[\"purdow\"])"
   ]
  },
  {
   "cell_type": "markdown",
   "metadata": {},
   "source": [
    "### create purchase price to warranty ratio"
   ]
  },
  {
   "cell_type": "code",
   "execution_count": 10,
   "metadata": {},
   "outputs": [],
   "source": [
    "x_train_dum['ptw'] = x_train.PaintingBCost/x_train.WarrantyCost"
   ]
  },
  {
   "cell_type": "markdown",
   "metadata": {},
   "source": [
    "### create auction price to bid ratio"
   ]
  },
  {
   "cell_type": "code",
   "execution_count": 11,
   "metadata": {},
   "outputs": [],
   "source": [
    "x_train_dum['ptb'] = x_train.MMRAcquisitionAuctionCleanPrice/x_train.Bids"
   ]
  },
  {
   "cell_type": "markdown",
   "metadata": {},
   "source": [
    "### check if there is any N/A in dataset, fill with 0 if true"
   ]
  },
  {
   "cell_type": "code",
   "execution_count": 12,
   "metadata": {},
   "outputs": [],
   "source": [
    "x_train_dum.isnull().values.any()\n",
    "x_train_dum = x_train_dum.fillna(0)"
   ]
  },
  {
   "cell_type": "markdown",
   "metadata": {},
   "source": [
    "### confirm purchase price to warranty ratio is not similar to price to bid ratio"
   ]
  },
  {
   "cell_type": "code",
   "execution_count": 13,
   "metadata": {},
   "outputs": [
    {
     "data": {
      "image/png": "[encoded data removed]",
      "text/plain": [
       "<matplotlib.figure.Figure at 0x2c3467cfcf8>"
      ]
     },
     "metadata": {},
     "output_type": "display_data"
    }
   ],
   "source": [
    "plt.plot(x_train_dum['ptw'], x_train_dum['ptb'], marker='.',\n",
    "         linestyle='none', color='royalblue', alpha=0.4)\n",
    "plt.xlabel('Pay/Warranty')\n",
    "plt.ylabel('Price/Bid')\n",
    "plt.show()"
   ]
  },
  {
   "cell_type": "markdown",
   "metadata": {},
   "source": [
    "### delete irrelevant columns"
   ]
  },
  {
   "cell_type": "code",
   "execution_count": 14,
   "metadata": {},
   "outputs": [],
   "source": [
    "x_train_dum = x_train_dum.drop(['IsBadBuy', 'PurchDate', 'PaintingName', 'SubType', 'FrameTypeID',\n",
    "                                'Bids', 'MMRAcquisitionAuctionAveragePrice', 'MMRAcquisitionAuctionCleanPrice',\n",
    "                               'MMRAcquisitionRetailAveragePrice', 'MMRAcquisitonRetailCleanPrice', \n",
    "                               'MMRCurrentAuctionAveragePrice', 'MMRCurrentAuctionCleanPrice', 'MMRCurrentRetailAveragePrice',\n",
    "                               'MMRCurrentRetailCleanPrice', 'VNZIP1', 'PaintingBCost', 'WarrantyCost'], axis=1)"
   ]
  },
  {
   "cell_type": "markdown",
   "metadata": {},
   "source": [
    "### set random forest classifer, train the model"
   ]
  },
  {
   "cell_type": "code",
   "execution_count": 15,
   "metadata": {},
   "outputs": [
    {
     "data": {
      "text/plain": [
       "RandomForestClassifier(bootstrap=True, class_weight=None, criterion='gini',\n",
       "            max_depth=None, max_features='auto', max_leaf_nodes=None,\n",
       "            min_impurity_decrease=0.0, min_impurity_split=None,\n",
       "            min_samples_leaf=1, min_samples_split=2,\n",
       "            min_weight_fraction_leaf=0.0, n_estimators=300, n_jobs=1,\n",
       "            oob_score=False, random_state=1, verbose=0, warm_start=False)"
      ]
     },
     "execution_count": 15,
     "metadata": {},
     "output_type": "execute_result"
    }
   ],
   "source": [
    "from sklearn.ensemble import RandomForestClassifier\n",
    "rfc = RandomForestClassifier(n_estimators=300, random_state=1)\n",
    "rfc.fit(x_train_dum, y_train)"
   ]
  },
  {
   "cell_type": "markdown",
   "metadata": {},
   "source": [
    "### cross validation on train data"
   ]
  },
  {
   "cell_type": "code",
   "execution_count": 16,
   "metadata": {},
   "outputs": [
    {
     "name": "stdout",
     "output_type": "stream",
     "text": [
      "Cross-validated scores: [0.88556958 0.88548778 0.8872495 ]\n"
     ]
    }
   ],
   "source": [
    "from sklearn.cross_validation import cross_val_score\n",
    "scores = cross_val_score(rfc, x_train_dum, y_train, cv=3, scoring='accuracy')\n",
    "print(\"Cross-validated scores:\", scores)"
   ]
  },
  {
   "cell_type": "markdown",
   "metadata": {},
   "source": [
    "### calculate importance scores of variables"
   ]
  },
  {
   "cell_type": "code",
   "execution_count": 17,
   "metadata": {},
   "outputs": [
    {
     "data": {
      "text/plain": [
       "[('ptb', 0.085324688190428),\n",
       " ('ptw', 0.08010919472228034),\n",
       " ('mat__Metal', 0.04141105200676476),\n",
       " ('mat__Wood', 0.03254819731004254),\n",
       " ('c__SILVER', 0.013478894104199824),\n",
       " ('pd__2', 0.012888683300003667)]"
      ]
     },
     "execution_count": 17,
     "metadata": {},
     "output_type": "execute_result"
    }
   ],
   "source": [
    "ipt = list(zip(x_train_dum, rfc.feature_importances_))\n",
    "ipt = sorted(ipt, key = lambda x: x[1], reverse = True)\n",
    "ipt[0:6]"
   ]
  },
  {
   "cell_type": "markdown",
   "metadata": {},
   "source": [
    "### filter variables with scores > 0.1%"
   ]
  },
  {
   "cell_type": "code",
   "execution_count": 18,
   "metadata": {},
   "outputs": [],
   "source": [
    "keep=[]\n",
    "for i in range((len(ipt)-1)):\n",
    "    if ipt[i][1] > 0.001:\n",
    "        keep.append(ipt[i][0])\n",
    "x_train_dum_f1 = x_train_dum.loc[:,x_train_dum.columns.isin(keep)]"
   ]
  },
  {
   "cell_type": "markdown",
   "metadata": {},
   "source": [
    "### train the model second time"
   ]
  },
  {
   "cell_type": "code",
   "execution_count": 19,
   "metadata": {},
   "outputs": [
    {
     "data": {
      "text/plain": [
       "RandomForestClassifier(bootstrap=True, class_weight=None, criterion='gini',\n",
       "            max_depth=None, max_features='auto', max_leaf_nodes=None,\n",
       "            min_impurity_decrease=0.0, min_impurity_split=None,\n",
       "            min_samples_leaf=1, min_samples_split=2,\n",
       "            min_weight_fraction_leaf=0.0, n_estimators=300, n_jobs=1,\n",
       "            oob_score=False, random_state=1, verbose=0, warm_start=False)"
      ]
     },
     "execution_count": 19,
     "metadata": {},
     "output_type": "execute_result"
    }
   ],
   "source": [
    "rfc.fit(x_train_dum_f1, y_train)"
   ]
  },
  {
   "cell_type": "markdown",
   "metadata": {},
   "source": [
    "### cross validation second time"
   ]
  },
  {
   "cell_type": "code",
   "execution_count": 20,
   "metadata": {},
   "outputs": [
    {
     "name": "stdout",
     "output_type": "stream",
     "text": [
      "Cross-validated scores: [0.89276277 0.89224106 0.89246128]\n"
     ]
    }
   ],
   "source": [
    "scores = cross_val_score(rfc, x_train_dum_f1, y_train, cv=3, scoring='accuracy')\n",
    "print(\"Cross-validated scores:\", scores)"
   ]
  },
  {
   "cell_type": "markdown",
   "metadata": {},
   "source": [
    "### clean the test data in consistent with the train data"
   ]
  },
  {
   "cell_type": "code",
   "execution_count": 21,
   "metadata": {},
   "outputs": [],
   "source": [
    "t1 = x_test[\"PaintingName\"].str.findall(\"([T]\\d+)\")\n",
    "t2 = x_test[\"SubType\"].str.findall(\"([T]\\d+)\")\n",
    "t = t1+t2\n",
    "dum_t = t.str.join(sep=',').str.get_dummies(sep=',')\n",
    "\n",
    "qc = x_test[\"PaintingName\"].str.findall(\"(I[4,6]+|I-[4,6]+|I\\s[4,6]+)\")\n",
    "dum_qc = qc.str.join(sep='').str.get_dummies()\n",
    "\n",
    "x_test[\"SubType\"] = x_test.loc[:,\"SubType\"].str.lower()\n",
    "stylelist = [\"genre\", \"history\", \"still life\", \"real life\", \"landscape\", \"portrait\", \"fine art\"]\n",
    "style = x_test.loc[:,\"SubType\"].str.extract('(' + '|'.join(stylelist) + ')', expand=False)\n",
    "dum_style = style.str.join(sep='').str.get_dummies()\n",
    "\n",
    "x_test_dum = pd.get_dummies(x_test, prefix='auct_', columns=[\"Auction\"])\n",
    "x_test_dum = pd.get_dummies(x_test_dum, prefix='mkt_', columns=[\"Market\"])\n",
    "x_test_dum = pd.get_dummies(x_test_dum, prefix='mat_', columns=[\"FrameType\"])\n",
    "x_test_dum = pd.get_dummies(x_test_dum, prefix='nat_', columns=[\"Nationality\"])\n",
    "x_test_dum = pd.get_dummies(x_test_dum, prefix='s_', columns=[\"Size\"])\n",
    "x_test_dum = pd.get_dummies(x_test_dum, prefix='t3_', columns=[\"TopThreeNYCName\"])\n",
    "x_test_dum = pd.get_dummies(x_test_dum, prefix='dm_', columns=[\"PRIMEUNIT\"])\n",
    "x_test_dum = pd.get_dummies(x_test_dum, prefix='grt_', columns=[\"AUCGUART\"])\n",
    "x_test_dum = pd.get_dummies(x_test_dum, prefix='pty_', columns=[\"PaintingYear\"])\n",
    "x_test_dum = pd.get_dummies(x_test_dum, prefix='pta_', columns=[\"PaintingAge\"])\n",
    "x_test_dum = pd.get_dummies(x_test_dum, prefix='a_', columns=[\"Artist\"])\n",
    "x_test_dum = pd.get_dummies(x_test_dum, prefix='c_', columns=[\"CanvasColor\"])\n",
    "x_test_dum = pd.get_dummies(x_test_dum, prefix='tm_', columns=[\"Trim\"])\n",
    "x_test_dum = pd.get_dummies(x_test_dum, prefix='b_', columns=[\"BYRNO\"])\n",
    "x_test_dum = pd.get_dummies(x_test_dum, prefix='st_', columns=[\"VNST\"])\n",
    "\n",
    "x_test_dum['puryr'] = x_test_dum['PurchDate'].map(lambda x: x.year)\n",
    "x_test_dum['purmo'] = x_test_dum['PurchDate'].map(lambda x: x.month)\n",
    "x_test_dum['purdow'] = x_test_dum['PurchDate'].dt.weekday\n",
    "\n",
    "x_test_dum = pd.get_dummies(x_test_dum, prefix='py_', columns=[\"puryr\"])\n",
    "x_test_dum = pd.get_dummies(x_test_dum, prefix='pm_', columns=[\"purmo\"])\n",
    "x_test_dum = pd.get_dummies(x_test_dum, prefix='pd_', columns=[\"purdow\"])\n",
    "\n",
    "x_test_dum['ptw'] = x_test.PaintingBCost/x_test.WarrantyCost\n",
    "\n",
    "x_test_dum['ptb'] = x_test.MMRAcquisitionAuctionCleanPrice/x_test.Bids\n",
    "\n",
    "x_test_dum.isnull().values.any()\n",
    "x_test_dum = x_test_dum.fillna(0)\n",
    "\n",
    "x_test_dum = x_test_dum.drop(['IsBadBuy', 'PurchDate', 'PaintingName', 'SubType', 'FrameTypeID',\n",
    "                                'Bids', 'MMRAcquisitionAuctionAveragePrice', 'MMRAcquisitionAuctionCleanPrice',\n",
    "                               'MMRAcquisitionRetailAveragePrice', 'MMRAcquisitonRetailCleanPrice', \n",
    "                               'MMRCurrentAuctionAveragePrice', 'MMRCurrentAuctionCleanPrice', 'MMRCurrentRetailAveragePrice',\n",
    "                               'MMRCurrentRetailCleanPrice', 'VNZIP1', 'PaintingBCost', 'WarrantyCost'], axis=1)"
   ]
  },
  {
   "cell_type": "markdown",
   "metadata": {},
   "source": [
    "### filter the significant variables from test data"
   ]
  },
  {
   "cell_type": "code",
   "execution_count": 22,
   "metadata": {},
   "outputs": [],
   "source": [
    "x_test_dum_f1 = x_test_dum.loc[:,x_test_dum.columns.isin(keep)]"
   ]
  },
  {
   "cell_type": "markdown",
   "metadata": {},
   "source": [
    "### predict labels of test data"
   ]
  },
  {
   "cell_type": "code",
   "execution_count": 23,
   "metadata": {},
   "outputs": [],
   "source": [
    "pred = rfc.predict(x_test_dum_f1)"
   ]
  },
  {
   "cell_type": "markdown",
   "metadata": {},
   "source": [
    "### calculate accuracy of predicions"
   ]
  },
  {
   "cell_type": "code",
   "execution_count": 24,
   "metadata": {},
   "outputs": [
    {
     "name": "stdout",
     "output_type": "stream",
     "text": [
      "The accuracy of the RFC model on test data:  89.714 %\n"
     ]
    }
   ],
   "source": [
    "from sklearn.metrics import accuracy_score\n",
    "print('The accuracy of the RFC model on test data: ', str(round(accuracy_score(y_test, pred)*100,3)),'%')"
   ]
  },
  {
   "cell_type": "markdown",
   "metadata": {},
   "source": [
    "## 2. XGBoost Classifier"
   ]
  },
  {
   "cell_type": "markdown",
   "metadata": {},
   "source": [
    "### sort data by column names for xgboost package"
   ]
  },
  {
   "cell_type": "code",
   "execution_count": 25,
   "metadata": {},
   "outputs": [],
   "source": [
    "x_train_dum_f1 = x_train_dum_f1.reindex(sorted(x_train_dum_f1.columns), axis=1)\n",
    "x_test_dum_f1 = x_test_dum_f1.reindex(sorted(x_test_dum_f1.columns), axis=1)"
   ]
  },
  {
   "cell_type": "markdown",
   "metadata": {},
   "source": [
    "### train xgboost model on the filtered variables, return accuracy score"
   ]
  },
  {
   "cell_type": "code",
   "execution_count": 26,
   "metadata": {},
   "outputs": [
    {
     "name": "stdout",
     "output_type": "stream",
     "text": [
      "The accuracy of the XGB model on test data:  90.331 %\n"
     ]
    }
   ],
   "source": [
    "import xgboost as xgb\n",
    "xgbc = xgb.XGBClassifier(learning_rate=0.1, n_estimators=300, max_depth=5,\n",
    "                     min_child_weight=3, gamma=0.2, subsample=0.6, colsample_bytree=1.0,\n",
    "                     objective='binary:logistic', nthread=4, scale_pos_weight=1, seed=27)\n",
    "xgbc.fit(x_train_dum_f1, y_train, eval_metric='auc')\n",
    "pred_xgb = xgbc.predict(x_test_dum_f1)\n",
    "print('The accuracy of the XGB model on test data: ', str(round(accuracy_score(y_test, pred_xgb)*100,3)),'%')"
   ]
  }
 ],
 "metadata": {
  "kernelspec": {
   "display_name": "Python 3",
   "language": "python",
   "name": "python3"
  },
  "language_info": {
   "codemirror_mode": {
    "name": "ipython",
    "version": 3
   },
   "file_extension": ".py",
   "mimetype": "text/x-python",
   "name": "python",
   "nbconvert_exporter": "python",
   "pygments_lexer": "ipython3",
   "version": "3.6.4"
  }
 },
 "nbformat": 4,
 "nbformat_minor": 2
}
